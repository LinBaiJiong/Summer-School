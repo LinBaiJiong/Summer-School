{
 "cells": [
  {
   "cell_type": "markdown",
   "metadata": {},
   "source": [
    "# Maximum Likelihood Estimate(MLE) 最大似然估计"
   ]
  },
  {
   "cell_type": "markdown",
   "metadata": {},
   "source": [
    "Name: 林百炅\n"
   ]
  },
  {
   "cell_type": "markdown",
   "metadata": {},
   "source": [
    "<script type=\"text/javascript\" src=\"http://cdn.mathjax.org/mathjax/latest/MathJax.js?config=default\"></script><font size=4>\n",
    "\n",
    "1.设总体概率函数如下, $x_1, \\dots ,x_n$是样本, 试求未知参数的最大似然估计.\n",
    "\n",
    "(1) $p(x; \\theta)=\\sqrt{\\theta}x^{\\sqrt{\\theta}-1}, 0<x<1, \\theta>0$;\n",
    "\n",
    "(2) $p(x; \\theta)=\\theta c^{\\theta}x^{-(\\theta+1)}, x>c, c>0, \\theta>1$;\n",
    "\n",
    "\n",
    "\n",
    "\n",
    "\n",
    "</font>"
   ]
  },
  {
   "cell_type": "markdown",
   "metadata": {},
   "source": [
    "解:(1)似然函数:$ p(x_1,x_2,\\cdots,x_n;\\theta)=\\prod_{i=1}^n \\sqrt \\theta x_i^{\\sqrt \\theta -1}$; <br \\>\n",
    "\n",
    "&#8195;&#8195;&#8194;取对数:$L(\\theta)=ln p(x_1,x_2,\\cdots,x_n;\\theta)=\\sum_{i=1}^n [ln \\sqrt \\theta + (\\sqrt \\theta -1)ln x_i] \n",
    "=n ln \\sqrt \\theta + (\\sqrt \\theta - 1)\\sum_{i=1}^n ln x_i $; <br \\>\n",
    "\n",
    "&#8195;&#8195;&#8194;对$\\theta$求导:$\\frac{dL(\\theta)}{d \\theta} = n \\cdot \\frac{1}{\\sqrt \\theta} \\cdot \\frac{1}{2\\sqrt \\theta} + \\frac{1}{2\\sqrt \\theta} \\cdot \\sum_{i=1}^n ln x_i = \\frac{n}{2\\theta} + \\frac{1}{2\\sqrt \\theta} \\cdot \\sum_{i=1}^n ln x_i$; <br \\>\n",
    "\n",
    "&#8195;&#8195;&#8194;令导数为0，解得$\\theta = (\\frac{1}{n} \\cdot \\sum_{i=1}^n ln x_i)^2$. <br \\>\n",
    "\n",
    "(2)似然函数：$ p(x_1,x_2,\\cdots,x_n;\\theta)=\\prod_{i=1}^n \\theta c^{\\theta} x_i^{-(\\theta+1)}$; <br \\>\n",
    "\n",
    "&#8195;取对数:$L(\\theta)=ln p(x_1,x_2,\\cdots,x_n;\\theta)=\\sum_{i=1}^n[ln \\theta + \\theta lnc - (\\theta + 1)ln x_i] = nln\\theta + n\\theta lnc - \n",
    "(\\theta +1) \\sum_{i=1}^n ln x_i $; <br \\>\n",
    "\n",
    "&#8195;对$\\theta$求导:$\\frac{dL(\\theta)}{d\\theta}=\\frac{n}{\\theta} + nlnc - \\sum_{i=1}^n lnx_i$;<br \\>\n",
    "\n",
    "&#8195;令导数为0，解得$\\theta=\\frac{n}{\\sum_{i=1}^n lnx_i - nlnc}.$\n"
   ]
  },
  {
   "cell_type": "markdown",
   "metadata": {},
   "source": [
    "<script type=\"text/javascript\" src=\"http://cdn.mathjax.org/mathjax/latest/MathJax.js?config=default\"></script><font size=4>\n",
    "\n",
    "2.假如有一个罐子, 里面有黑白两种颜色的球, 数目多少不知, 两种颜色的比例也不知. 我们想知道罐中白球和黑球的比例, 但我们不能把罐中的球全部拿出来数(球太多了, 耽误我上王者). 现在我们可以进行100次实验, 每次实验都拿出10个球, 记录下白球的数量. 假设这100次实验都相与独立的, 请问罐中白球所占的比例最有可能是多少? 实验的数据如下:\n",
    "\n",
    "\n",
    "| 拿出白球的数量 | 0 | 1 | 2 | 3 | 4 | 5 | 6 | 7 | 8 | 9 | 10 |\n",
    "|:----------------:|:-:|:-:|:-:|:-:|:-:|:-:|:-:|:-:|:-:|:-:|:--:|\n",
    "| 实验次数      | 0 | 1 | 6 | 7 | 23 | 26 | 21 | 12 | 3 | 1 | 0 |\n",
    "\n",
    "tips: 变量X为每次实验中拿出白球的个数, 且X服从二项分布Bin(x|10, p).\n",
    "\n",
    "\n",
    "</font>"
   ]
  },
  {
   "cell_type": "markdown",
   "metadata": {},
   "source": [
    "解:设p为罐中白球所占比例，$x_i=i(0 \\le i \\le 10)$为每次实验拿出白球的个数，$k_i$为拿出白球数量为i的实验次数.  <br \\>\n",
    "\n",
    "&#8195;则$x_i$服从二项分布，即$x_i \\sim B(x_i|10,p)$\n",
    "\n",
    "&#8195;似然函数：$p(x_1,x_2, \\cdots ,x_{10};p)=\\prod_{i=1}^{10} [p^{x_i}(1-p)^{10-x_i}]^{k_i}$;  <br \\>\n",
    "\n",
    "&#8195;取对数：$ ln(p)=ln p(x_1,x_2, \\cdots ,x_{10};p)= \\sum_{i=1}^{10} k_i[ln p^{x_i}+ln (1-p)^{10-x_i}]\n",
    "=\\sum_{i=1}^{10} k_i[x_i lnp + (10-x_i) ln(1-p)]$  <br \\> \n",
    "\n",
    "&#8195;&#8195;&#8195;&#8195;&#8195;&#8195;&#8195;&#8194;\n",
    "$= lnp \\cdot \\sum_{i=1}^{10}k_i x_i + ln(1-p) \\cdot \\sum_{i=1}^{10}k_i(10-x_i)$; <br \\>\n",
    "\n",
    "&#8195;对p求导：$\\frac{dlnp}{dp}=\\frac{1}{p} \\cdot \\sum_{i=1}^{10} k_i x_i - \\frac{1}{1-p} \\cdot \\sum_{i=1}^{10}\n",
    "k_i (10-x_i)$; <br \\>\n",
    "\n",
    "&#8195;令导数为0，解得$p=\\frac{\\sum_{i=1}^{10} k_i x_i}{10 \\sum_{i=1}^{10k_i}}=0.499$; <br \\>\n",
    "\n",
    "&#8195;所以罐中白球所占比例最有可能是0.499."
   ]
  },
  {
   "cell_type": "markdown",
   "metadata": {},
   "source": [
    "遇到不会输入的数学符号, 可以参考《LATEX数学符号表.pdf》文献中的说明, Markdown的公式输入与Latex相类似, 现在多掌握一下Markdown的公式输入, 对你以后的Latex写作是很有帮助."
   ]
  },
  {
   "cell_type": "markdown",
   "metadata": {},
   "source": [
    "参考文献:\n",
    "\n",
    "[1]茆诗松, 程依明, 濮晓龙, 等. 概率论与数理统计教程 (第二版). 北京: 高等教育出版社, 2011."
   ]
  },
  {
   "cell_type": "code",
   "execution_count": null,
   "metadata": {
    "collapsed": true
   },
   "outputs": [],
   "source": []
  },
  {
   "cell_type": "markdown",
   "metadata": {},
   "source": [
    "如果你有什么疑问或者收获, 你可以在这里记录下来.\n",
    "###"
   ]
  },
  {
   "cell_type": "code",
   "execution_count": null,
   "metadata": {
    "collapsed": true
   },
   "outputs": [],
   "source": []
  }
 ],
 "metadata": {
  "kernelspec": {
   "display_name": "Python 3",
   "language": "python",
   "name": "python3"
  },
  "language_info": {
   "codemirror_mode": {
    "name": "ipython",
    "version": 3
   },
   "file_extension": ".py",
   "mimetype": "text/x-python",
   "name": "python",
   "nbconvert_exporter": "python",
   "pygments_lexer": "ipython3",
   "version": "3.6.1"
  }
 },
 "nbformat": 4,
 "nbformat_minor": 2
}
